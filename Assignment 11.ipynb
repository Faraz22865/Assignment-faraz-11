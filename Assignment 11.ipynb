{
 "cells": [
  {
   "cell_type": "code",
   "execution_count": 2,
   "id": "eb738cc2-8745-46ce-9eae-b38102cd5ba6",
   "metadata": {},
   "outputs": [
    {
     "name": "stdout",
     "output_type": "stream",
     "text": [
      "✅ Grades added successfully! Data written to 'students_with_grades.csv'.\n"
     ]
    }
   ],
   "source": [
    "import csv\n",
    "\n",
    "def get_grade(percentage):\n",
    "    percentage = float(percentage)\n",
    "    if 80 <= percentage <= 100:\n",
    "        return 'A'\n",
    "    elif 70 <= percentage < 80:\n",
    "        return 'B'\n",
    "    elif 60 <= percentage < 70:\n",
    "        return 'C'\n",
    "    elif 50 <= percentage < 60:\n",
    "        return 'D'\n",
    "    else:\n",
    "        return 'F'\n",
    "\n",
    "input_file = 'student data 11.csv'\n",
    "output_file = 'students_with_grades.csv'\n",
    "\n",
    "with open(input_file, 'r', newline='') as infile, open(output_file, 'w', newline='') as outfile:\n",
    "    reader = csv.DictReader(infile)\n",
    "    fieldnames = reader.fieldnames + ['Grade']  # Add new column\n",
    "    writer = csv.DictWriter(outfile, fieldnames=fieldnames)\n",
    "    \n",
    "    writer.writeheader()\n",
    "    \n",
    "    for row in reader:\n",
    "        row['Grade'] = get_grade(row['Percentage'])\n",
    "        writer.writerow(row)\n",
    "\n",
    "print(\"✅ Grades added successfully! Data written to 'students_with_grades.csv'.\")\n"
   ]
  },
  {
   "cell_type": "code",
   "execution_count": null,
   "id": "5502cb12-888b-4034-be09-1d22a26385d8",
   "metadata": {},
   "outputs": [],
   "source": []
  }
 ],
 "metadata": {
  "kernelspec": {
   "display_name": "Python 3 (ipykernel)",
   "language": "python",
   "name": "python3"
  },
  "language_info": {
   "codemirror_mode": {
    "name": "ipython",
    "version": 3
   },
   "file_extension": ".py",
   "mimetype": "text/x-python",
   "name": "python",
   "nbconvert_exporter": "python",
   "pygments_lexer": "ipython3",
   "version": "3.13.5"
  }
 },
 "nbformat": 4,
 "nbformat_minor": 5
}
